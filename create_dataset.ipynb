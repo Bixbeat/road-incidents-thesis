{
 "cells": [
  {
   "cell_type": "markdown",
   "metadata": {},
   "source": [
    "# Preprocessing"
   ]
  },
  {
   "cell_type": "markdown",
   "metadata": {},
   "source": [
    "### Settings"
   ]
  },
  {
   "cell_type": "code",
   "execution_count": 1,
   "metadata": {},
   "outputs": [],
   "source": [
    "import random\n",
    "import os\n",
    "from os import path\n",
    "\n",
    "from PIL import Image\n",
    "\n",
    "from data_management import data_utils\n",
    "from data_management.image_manipulations import image_to_dataloader_folders, crop_bottom_and_sides\n",
    "\n",
    "seed = 1"
   ]
  },
  {
   "cell_type": "code",
   "execution_count": 2,
   "metadata": {},
   "outputs": [],
   "source": [
    "root_dir = '/media/alex/A4A034E0A034BB1E/incidents-thesis/test-run/'\n",
    "output_dir = path.join(root_dir, 'incidents_cleaned')\n",
    "\n",
    "split_probabilities = {'train':70, 'val':20, 'test':10}"
   ]
  },
  {
   "cell_type": "markdown",
   "metadata": {},
   "source": [
    "# Positives"
   ]
  },
  {
   "cell_type": "code",
   "execution_count": 3,
   "metadata": {},
   "outputs": [],
   "source": [
    "split_field_name = 'split'\n",
    "database = '/media/alex/A4A034E0A034BB1E/incidents-thesis/correctimgs'"
   ]
  },
  {
   "cell_type": "markdown",
   "metadata": {},
   "source": [
    "**Geograph positives**"
   ]
  },
  {
   "cell_type": "code",
   "execution_count": 4,
   "metadata": {},
   "outputs": [
    {
     "name": "stdout",
     "output_type": "stream",
     "text": [
      "duplicate column name: split\n"
     ]
    }
   ],
   "source": [
    "image_table_name = 'incidents_geograph'\n",
    "handler = data_utils.ImgDatabaseHandler(database)\n",
    "geograph_root = '/media/alex/A4A034E0A034BB1E/Geograph'\n",
    "\n",
    "try:\n",
    "    handler.add_field(image_table_name, split_field_name) # Only once - note that SQLite does not allow deletes\n",
    "except Exception as e:\n",
    "    print(e)\n",
    "\n",
    "handler.calculate_splits(image_table_name, split_field_name, split_probabilities)\n",
    "records = handler.get_all_records(image_table_name)\n",
    "\n",
    "all_recorded_classes = []\n",
    "[all_recorded_classes.append(str(record[4])) for record in records]\n",
    "unique_classes = set(all_recorded_classes)\n",
    "data_utils.create_dataloader_folders(root_dir, output_dir, unique_classes)\n",
    "\n",
    "for record in records:\n",
    "    filepath = os.path.join(geograph_root, record[0])\n",
    "    # dataloader_root, img_class, img_split, img_path\n",
    "    image_to_dataloader_folders(output_dir, record[4], record[-1], filepath, output_img_width=500)\n",
    "\n",
    "handler.db.close()"
   ]
  },
  {
   "cell_type": "markdown",
   "metadata": {},
   "source": [
    "**Scraped data**"
   ]
  },
  {
   "cell_type": "code",
   "execution_count": 5,
   "metadata": {},
   "outputs": [
    {
     "name": "stdout",
     "output_type": "stream",
     "text": [
      "duplicate column name: split\n",
      "file not found: [Errno 2] No such file or directory: '/media/alex/A4A034E0A034BB1E/incidents-thesis/data/flooding/bing/overflowed road/1817AC6AE7A81D67A07AA0F0F738E4334838ACBF.jpg'\n",
      "\n",
      "file not found: [Errno 2] No such file or directory: '/media/alex/A4A034E0A034BB1E/incidents-thesis/data/flooding/bing/overflowed road/E829B16BD3C0CE410C85B9BF8921A8F1215E4E74.jpg'\n",
      "\n",
      "file not found: [Errno 2] No such file or directory: '/media/alex/A4A034E0A034BB1E/incidents-thesis/data/flooding/bing/overflowed route/E2E1AE4A03A0D839B93EF054A2035EA8237C8793.jpg'\n",
      "\n",
      "file not found: [Errno 2] No such file or directory: '/media/alex/A4A034E0A034BB1E/incidents-thesis/data/flooding/google/flooding on highway/d6FDN5HDZ3.jpg'\n",
      "\n",
      "file not found: [Errno 2] No such file or directory: '/media/alex/A4A034E0A034BB1E/incidents-thesis/data/flooding/google/flooding on highway/wp2gj2GSFn.jpg'\n",
      "\n",
      "file not found: [Errno 2] No such file or directory: '/media/alex/A4A034E0A034BB1E/incidents-thesis/data/flooding/google/flooding on road/ddTlLgEFtH.jpg'\n",
      "\n",
      "file not found: [Errno 2] No such file or directory: '/media/alex/A4A034E0A034BB1E/incidents-thesis/data/flooding/google/flooding on road/eIvcZGPxHR.jpg'\n",
      "\n",
      "file not found: [Errno 2] No such file or directory: '/media/alex/A4A034E0A034BB1E/incidents-thesis/data/flooding/google/flooding on road/EKTFtTjsuV.jpg'\n",
      "\n",
      "file not found: [Errno 2] No such file or directory: '/media/alex/A4A034E0A034BB1E/incidents-thesis/data/flooding/google/flooding on road/NViuLJ2LDk.jpg'\n",
      "\n",
      "file not found: [Errno 2] No such file or directory: '/media/alex/A4A034E0A034BB1E/incidents-thesis/data/flooding/google/flooding on road/obsEL2qN7i.jpg'\n",
      "\n",
      "file not found: [Errno 2] No such file or directory: '/media/alex/A4A034E0A034BB1E/incidents-thesis/data/flooding/google/flooding on road/po8KtA5hGb.jpg'\n",
      "\n",
      "file not found: [Errno 2] No such file or directory: '/media/alex/A4A034E0A034BB1E/incidents-thesis/data/flooding/google/flooding on road/gOcT5vTvpa.jpg'\n",
      "\n",
      "file not found: [Errno 2] No such file or directory: '/media/alex/A4A034E0A034BB1E/incidents-thesis/data/flooding/google/flooding on road/USh9oKlyKi.jpg'\n",
      "\n",
      "file not found: [Errno 2] No such file or directory: '/media/alex/A4A034E0A034BB1E/incidents-thesis/data/flooding/google/flooding on road/YUKmwirquX.jpg'\n",
      "\n",
      "file not found: [Errno 2] No such file or directory: '/media/alex/A4A034E0A034BB1E/incidents-thesis/data/flooding/google/flooding on route/5Sy4U8PEF2.jpg'\n",
      "\n",
      "file not found: [Errno 2] No such file or directory: '/media/alex/A4A034E0A034BB1E/incidents-thesis/data/crash/bing/dashcam accident/A07E8FA573F6EE78059FDEAEF344119A134ED239.jpg'\n",
      "\n",
      "file not found: [Errno 2] No such file or directory: '/media/alex/A4A034E0A034BB1E/incidents-thesis/data/crash/bing/dashcam accident/5C25C8512E4D2E5A2D408FE345EF37FFA47BA238.jpg'\n",
      "\n",
      "file not found: [Errno 2] No such file or directory: '/media/alex/A4A034E0A034BB1E/incidents-thesis/data/crash/bing/highway accident/092BD46C51BF892D7A969952CF866A50625C655A.jpg'\n",
      "\n",
      "file not found: [Errno 2] No such file or directory: '/media/alex/A4A034E0A034BB1E/incidents-thesis/data/crash/bing/highway accident/8C8DBF830014ADDA34CA3B268FE3242126536B34.jpg'\n",
      "\n",
      "file not found: [Errno 2] No such file or directory: '/media/alex/A4A034E0A034BB1E/incidents-thesis/data/crash/bing/highway accident/D4E017DF53CA0730380102C21697FBA41930BFAE.jpg'\n",
      "\n",
      "file not found: [Errno 2] No such file or directory: '/media/alex/A4A034E0A034BB1E/incidents-thesis/data/crash/bing/highway accident/166714BC5743B2D8FD69D5D93024FE47FE932ABC.jpg'\n",
      "\n",
      "file not found: [Errno 2] No such file or directory: '/media/alex/A4A034E0A034BB1E/incidents-thesis/data/crash/bing/highway accident/92BE2B9DA8EE966DE7CE0F763DA4399B03ADDFFE.jpg'\n",
      "\n",
      "file not found: [Errno 2] No such file or directory: '/media/alex/A4A034E0A034BB1E/incidents-thesis/data/crash/bing/highway accident/E0702B74A762C75BDDF461A128B96A3AD3E9E2F2.jpg'\n",
      "\n",
      "file not found: [Errno 2] No such file or directory: '/media/alex/A4A034E0A034BB1E/incidents-thesis/data/crash/bing/highway accident/3DB1D2E9ADC2C3706946D2CE307E71A996E9FD87.jpg'\n",
      "\n",
      "file not found: [Errno 2] No such file or directory: '/media/alex/A4A034E0A034BB1E/incidents-thesis/data/crash/bing/highway accident/46DBAFB89861D18E6FC0C9C8433C48675275B5DC.jpg'\n",
      "\n",
      "file not found: [Errno 2] No such file or directory: '/media/alex/A4A034E0A034BB1E/incidents-thesis/data/crash/bing/highway accident/4AC18E088D54526F94F8F7432EC9A815F555040C.jpg'\n",
      "\n",
      "file not found: [Errno 2] No such file or directory: '/media/alex/A4A034E0A034BB1E/incidents-thesis/data/crash/bing/highway accident/C7D9D18D522E892855E10E265B7F0C26C3448A29.jpg'\n",
      "\n",
      "file not found: [Errno 2] No such file or directory: '/media/alex/A4A034E0A034BB1E/incidents-thesis/data/crash/bing/highway accident/CDC072382FC110B0CF07135D365BDB72378D821E.jpg'\n",
      "\n",
      "file not found: [Errno 2] No such file or directory: '/media/alex/A4A034E0A034BB1E/incidents-thesis/data/crash/bing/highway accident/58EF4EEDDF214EDB3A0528FEFD9C3BE5A50DB5D5.jpg'\n",
      "\n",
      "file not found: [Errno 2] No such file or directory: '/media/alex/A4A034E0A034BB1E/incidents-thesis/data/crash/bing/highway accident/178C68448FBC4D0A3C0D227F5D85C360BF82A9A5.jpg'\n",
      "\n",
      "file not found: [Errno 2] No such file or directory: '/media/alex/A4A034E0A034BB1E/incidents-thesis/data/crash/bing/highway collision/0098DCBD6509FF98FDF5A8CBCF6201A72A098A44.jpg'\n",
      "\n",
      "file not found: [Errno 2] No such file or directory: '/media/alex/A4A034E0A034BB1E/incidents-thesis/data/crash/bing/highway collision/16FF6839B7D0787D145D59C674C5AA6AF08DE5D0.jpg'\n",
      "\n",
      "file not found: [Errno 2] No such file or directory: '/media/alex/A4A034E0A034BB1E/incidents-thesis/data/landslide/bing/landslide on road/BA9ABE6DF07770FFABBE93C24E1AFE63B9AC33CF.jpg'\n",
      "\n",
      "file not found: [Errno 2] No such file or directory: '/media/alex/A4A034E0A034BB1E/incidents-thesis/data/landslide/bing/landslide on road/698B1156A4C90C8CD5344F378C83C0F02A42D4B8.jpg'\n",
      "\n",
      "file not found: [Errno 2] No such file or directory: '/media/alex/A4A034E0A034BB1E/incidents-thesis/data/landslide/bing/landslide on road/8F7139E0788F2DB46563678203674D44802CCC86.jpg'\n",
      "\n",
      "file not found: [Errno 2] No such file or directory: '/media/alex/A4A034E0A034BB1E/incidents-thesis/data/landslide/bing/landslide on street/6E20D2EFDE57B91FF7C48E4326EF2BD98C29563C.jpg'\n",
      "\n",
      "file not found: [Errno 2] No such file or directory: '/media/alex/A4A034E0A034BB1E/incidents-thesis/data/landslide/bing/landslide on street/49963FE916A4DBF198E47192A3189C239CE585B2.jpg'\n",
      "\n"
     ]
    }
   ],
   "source": [
    "image_table_name = 'incidents'\n",
    "handler = data_utils.ImgDatabaseHandler(database)\n",
    "scraped_root = '/media/alex/A4A034E0A034BB1E/incidents-thesis/data'\n",
    "\n",
    "try:\n",
    "    handler.add_field(image_table_name, split_field_name) # Only once\n",
    "except Exception as e:\n",
    "    print(e)\n",
    "\n",
    "handler.calculate_splits(image_table_name, split_field_name, split_probabilities)\n",
    "records = handler.get_all_records(image_table_name)\n",
    "\n",
    "all_recorded_classes = []\n",
    "[all_recorded_classes.append(str(record[4])) for record in records]\n",
    "unique_classes = set(all_recorded_classes)\n",
    "data_utils.create_dataloader_folders(root_dir, output_dir, unique_classes)\n",
    "\n",
    "for record in records:\n",
    "    filepath = os.path.join(scraped_root, record[0])\n",
    "    # dataloader_root, img_class, img_split, img_path\n",
    "    image_to_dataloader_folders(output_dir, record[4], record[-1], filepath, output_img_width=500)\n",
    "\n",
    "handler.db.close()"
   ]
  },
  {
   "cell_type": "markdown",
   "metadata": {},
   "source": [
    "### Multilingual"
   ]
  },
  {
   "cell_type": "code",
   "execution_count": 6,
   "metadata": {},
   "outputs": [
    {
     "name": "stdout",
     "output_type": "stream",
     "text": [
      "duplicate column name: split\n",
      "file not found: [Errno 2] No such file or directory: '/media/alex/A4A034E0A034BB1E/incidents-thesis/data/multilingual/landlide/bing/公路 塌方/04162DC6EB58A9AF7F567A895C5EBE8126C23835.jpg'\n",
      "\n",
      "file not found: [Errno 2] No such file or directory: '/media/alex/A4A034E0A034BB1E/incidents-thesis/data/multilingual/landlide/bing/公路 塌方/087A5379C510D6D1EAFEF722F7494B579C5FBC1F.jpg'\n",
      "\n",
      "file not found: [Errno 2] No such file or directory: '/media/alex/A4A034E0A034BB1E/incidents-thesis/data/multilingual/landlide/bing/公路 塌方/CEEB8B5F47029667206C476AC875791FCFE7C31B.jpg'\n",
      "\n",
      "file not found: [Errno 2] No such file or directory: '/media/alex/A4A034E0A034BB1E/incidents-thesis/data/multilingual/landlide/bing/公路 塌方/D64C659B7F6A03E8C55E829B78754E98D5F05B67.jpg'\n",
      "\n",
      "file not found: [Errno 2] No such file or directory: '/media/alex/A4A034E0A034BB1E/incidents-thesis/data/multilingual/landlide/bing/公路 塌方/D64C659B7F6A03E8C55EC409BC8CBF57C8AFC66B.jpg'\n",
      "\n",
      "file not found: [Errno 2] No such file or directory: '/media/alex/A4A034E0A034BB1E/incidents-thesis/data/multilingual/landlide/bing/公路 塌方/70DD78DA18C963B5476920AD3B17C7552493BD3D.jpg'\n",
      "\n",
      "file not found: [Errno 2] No such file or directory: '/media/alex/A4A034E0A034BB1E/incidents-thesis/data/multilingual/landlide/bing/公路 塌方/9856AEC61BE3915FC40C8E942BB172579C6E8111.jpg'\n",
      "\n",
      "file not found: [Errno 2] No such file or directory: '/media/alex/A4A034E0A034BB1E/incidents-thesis/data/multilingual/landlide/bing/道路 塌方/1F8C9F8E86397982F277BB02EF11CA31E31AF16E.jpg'\n",
      "\n",
      "file not found: [Errno 2] No such file or directory: '/media/alex/A4A034E0A034BB1E/incidents-thesis/data/multilingual/landlide/bing/道路 塌方/983EEABC8F102EBF49041B6DEC3F883D5868872D.jpg'\n",
      "\n",
      "file not found: [Errno 2] No such file or directory: '/media/alex/A4A034E0A034BB1E/incidents-thesis/data/multilingual/landlide/bing/道路 塌方/856F5E0C77573537D6E125C13506330EE426CA5E.jpg'\n",
      "\n",
      "file not found: [Errno 2] No such file or directory: '/media/alex/A4A034E0A034BB1E/incidents-thesis/data/multilingual/landlide/bing/道路 塌方/8599199571C1A25E6C8565A4B0BEBA15B51DBA6D.jpg'\n",
      "\n",
      "file not found: [Errno 2] No such file or directory: '/media/alex/A4A034E0A034BB1E/incidents-thesis/data/multilingual/landlide/bing/道路 塌方/8D8852A92D6AE40523BDD1A1FA2E3A39578C74A0.jpg'\n",
      "\n",
      "file not found: [Errno 2] No such file or directory: '/media/alex/A4A034E0A034BB1E/incidents-thesis/data/multilingual/landlide/bing/道路 塌方/CCD48745A55ED13A9BFC898D12E53908B62D56FB.jpg'\n",
      "\n",
      "file not found: [Errno 2] No such file or directory: '/media/alex/A4A034E0A034BB1E/incidents-thesis/data/multilingual/landlide/bing/道路 塌方/F6BB12BA2638F389171C93D5ED46FA4840F6E347.jpg'\n",
      "\n",
      "file not found: [Errno 2] No such file or directory: '/media/alex/A4A034E0A034BB1E/incidents-thesis/data/multilingual/landlide/flickr/道路 塌方/14465457388.jpg'\n",
      "\n",
      "file not found: [Errno 2] No such file or directory: '/media/alex/A4A034E0A034BB1E/incidents-thesis/data/multilingual/landlide/google/公路 塌方/2JkW5aaFLP.jpg'\n",
      "\n",
      "file not found: [Errno 2] No such file or directory: '/media/alex/A4A034E0A034BB1E/incidents-thesis/data/multilingual/landlide/google/公路 塌方/4bxQNx5NS7.jpg'\n",
      "\n",
      "file not found: [Errno 2] No such file or directory: '/media/alex/A4A034E0A034BB1E/incidents-thesis/data/multilingual/landlide/google/公路 塌方/MkpreOZGNm.jpg'\n",
      "\n",
      "file not found: [Errno 2] No such file or directory: '/media/alex/A4A034E0A034BB1E/incidents-thesis/data/multilingual/landlide/google/公路 塌方/MlrAmxvx0G.jpg'\n",
      "\n",
      "file not found: [Errno 2] No such file or directory: '/media/alex/A4A034E0A034BB1E/incidents-thesis/data/multilingual/landlide/google/公路 塌方/O1OkfHpRXI.jpg'\n",
      "\n",
      "file not found: [Errno 2] No such file or directory: '/media/alex/A4A034E0A034BB1E/incidents-thesis/data/multilingual/landlide/google/公路 塌方/vWqYW3OrsP.jpg'\n",
      "\n",
      "file not found: [Errno 2] No such file or directory: '/media/alex/A4A034E0A034BB1E/incidents-thesis/data/multilingual/landlide/google/公路 塌方/wJkr5abHXY.jpg'\n",
      "\n",
      "file not found: [Errno 2] No such file or directory: '/media/alex/A4A034E0A034BB1E/incidents-thesis/data/multilingual/landlide/google/公路 塌方/wUYT1w4Qwa.jpg'\n",
      "\n",
      "file not found: [Errno 2] No such file or directory: '/media/alex/A4A034E0A034BB1E/incidents-thesis/data/multilingual/landlide/google/公路 塌方/AANQq0v0vE.jpg'\n",
      "\n",
      "file not found: [Errno 2] No such file or directory: '/media/alex/A4A034E0A034BB1E/incidents-thesis/data/multilingual/landlide/google/公路 塌方/t4Nzb1fQGO.jpg'\n",
      "\n",
      "file not found: [Errno 2] No such file or directory: '/media/alex/A4A034E0A034BB1E/incidents-thesis/data/multilingual/landlide/google/公路 塌方/tL6sOyCcWq.jpg'\n",
      "\n",
      "file not found: [Errno 2] No such file or directory: '/media/alex/A4A034E0A034BB1E/incidents-thesis/data/multilingual/landlide/google/公路 塌方/uqao9mi3XU.jpg'\n",
      "\n",
      "file not found: [Errno 2] No such file or directory: '/media/alex/A4A034E0A034BB1E/incidents-thesis/data/multilingual/landlide/google/公路 塌方/FN8miJcTGY.jpg'\n",
      "\n",
      "file not found: [Errno 2] No such file or directory: '/media/alex/A4A034E0A034BB1E/incidents-thesis/data/multilingual/landlide/google/公路 塌方/FStVxyxAsQ.jpg'\n",
      "\n",
      "file not found: [Errno 2] No such file or directory: '/media/alex/A4A034E0A034BB1E/incidents-thesis/data/multilingual/landlide/google/公路 塌方/HKpn8yfCAL.jpg'\n",
      "\n",
      "file not found: [Errno 2] No such file or directory: '/media/alex/A4A034E0A034BB1E/incidents-thesis/data/multilingual/landlide/google/公路 塌方/jcCHD6DbHt.jpg'\n",
      "\n",
      "file not found: [Errno 2] No such file or directory: '/media/alex/A4A034E0A034BB1E/incidents-thesis/data/multilingual/landlide/google/公路 塌方/5E28Zje9md.jpg'\n",
      "\n",
      "file not found: [Errno 2] No such file or directory: '/media/alex/A4A034E0A034BB1E/incidents-thesis/data/multilingual/landlide/google/道路 塌方/21DzjFJ1HT.jpg'\n",
      "\n",
      "file not found: [Errno 2] No such file or directory: '/media/alex/A4A034E0A034BB1E/incidents-thesis/data/multilingual/landlide/google/道路 塌方/26HmbONtsW.jpg'\n",
      "\n",
      "file not found: [Errno 2] No such file or directory: '/media/alex/A4A034E0A034BB1E/incidents-thesis/data/multilingual/landlide/google/道路 塌方/4DDPUmV5fX.jpg'\n",
      "\n",
      "file not found: [Errno 2] No such file or directory: '/media/alex/A4A034E0A034BB1E/incidents-thesis/data/multilingual/landlide/google/道路 塌方/aEeGtWnWgC.jpg'\n",
      "\n",
      "file not found: [Errno 2] No such file or directory: '/media/alex/A4A034E0A034BB1E/incidents-thesis/data/multilingual/landlide/google/道路 塌方/ILguUqUNH1.jpg'\n",
      "\n",
      "file not found: [Errno 2] No such file or directory: '/media/alex/A4A034E0A034BB1E/incidents-thesis/data/multilingual/landlide/google/道路 塌方/l8soTOKbHi.jpg'\n",
      "\n",
      "file not found: [Errno 2] No such file or directory: '/media/alex/A4A034E0A034BB1E/incidents-thesis/data/multilingual/landlide/google/道路 塌方/qOpMxVuj7c.jpg'\n",
      "\n",
      "file not found: [Errno 2] No such file or directory: '/media/alex/A4A034E0A034BB1E/incidents-thesis/data/multilingual/landlide/google/道路 塌方/mQzKWtrZXC.jpg'\n",
      "\n",
      "file not found: [Errno 2] No such file or directory: '/media/alex/A4A034E0A034BB1E/incidents-thesis/data/multilingual/landlide/google/道路 塌方/DEEx7hlxc2.jpg'\n",
      "\n",
      "file not found: [Errno 2] No such file or directory: '/media/alex/A4A034E0A034BB1E/incidents-thesis/data/multilingual/landlide/google/道路 塌方/evgTFcUDJf.jpg'\n",
      "\n",
      "file not found: [Errno 2] No such file or directory: '/media/alex/A4A034E0A034BB1E/incidents-thesis/data/multilingual/rockslide/bing/odron kamenja na cesti/23B37F36341686381FE71050429D1FFE7A5AF9CD.jpg'\n",
      "\n",
      "file not found: [Errno 2] No such file or directory: '/media/alex/A4A034E0A034BB1E/incidents-thesis/data/multilingual/rockslide/google/ 道路落石/dHFIfdYwrX.jpg'\n",
      "\n",
      "file not found: [Errno 2] No such file or directory: '/media/alex/A4A034E0A034BB1E/incidents-thesis/data/multilingual/rockslide/google/ 道路落石/ee9mL9TJFQ.jpg'\n",
      "\n",
      "file not found: [Errno 2] No such file or directory: '/media/alex/A4A034E0A034BB1E/incidents-thesis/data/multilingual/rockslide/google/odron ceste/6JbZfCvKI6.jpg'\n",
      "\n",
      "file not found: [Errno 2] No such file or directory: '/media/alex/A4A034E0A034BB1E/incidents-thesis/data/multilingual/rockslide/google/odron ceste/77ELfoH6fl.jpg'\n",
      "\n",
      "file not found: [Errno 2] No such file or directory: '/media/alex/A4A034E0A034BB1E/incidents-thesis/data/multilingual/rockslide/google/odron kamenja na cesti/256uWAxzH4.jpg'\n",
      "\n"
     ]
    },
    {
     "name": "stderr",
     "output_type": "stream",
     "text": [
      "/home/alex/anaconda3/envs/thesis/lib/python3.6/site-packages/PIL/TiffImagePlugin.py:742: UserWarning: Corrupt EXIF data.  Expecting to read 4 bytes but only got 2. \n",
      "  warnings.warn(str(msg))\n"
     ]
    }
   ],
   "source": [
    "image_table_name = 'incidents_multilingual'\n",
    "handler = data_utils.ImgDatabaseHandler(database)\n",
    "multilang_root = '/media/alex/A4A034E0A034BB1E/incidents-thesis/data/multilingual'\n",
    "\n",
    "try:\n",
    "    handler.add_field(image_table_name, split_field_name) # Only once\n",
    "except Exception as e:\n",
    "    print(e)\n",
    "\n",
    "handler.calculate_splits(image_table_name, split_field_name, split_probabilities)\n",
    "records = handler.get_all_records(image_table_name)\n",
    "\n",
    "all_recorded_classes = []\n",
    "[all_recorded_classes.append(str(record[4])) for record in records]\n",
    "unique_classes = set(all_recorded_classes)\n",
    "data_utils.create_dataloader_folders(root_dir, output_dir, unique_classes)\n",
    "\n",
    "for record in records:\n",
    "    filepath = os.path.join(multilang_root, record[0])\n",
    "    # dataloader_root, img_class, img_split, img_path\n",
    "    image_to_dataloader_folders(output_dir, record[4], record[-1], filepath, output_img_width=500)\n",
    "\n",
    "handler.db.close()"
   ]
  },
  {
   "cell_type": "markdown",
   "metadata": {},
   "source": [
    "## Negatives"
   ]
  },
  {
   "cell_type": "markdown",
   "metadata": {},
   "source": [
    "**Geograph negatives:** 9981 photos"
   ]
  },
  {
   "cell_type": "code",
   "execution_count": 4,
   "metadata": {},
   "outputs": [],
   "source": [
    "negatives_class = ['negative']\n",
    "data_utils.create_dataloader_folders(root_dir, output_dir, negatives_class)"
   ]
  },
  {
   "cell_type": "code",
   "execution_count": 9,
   "metadata": {},
   "outputs": [
    {
     "name": "stdout",
     "output_type": "stream",
     "text": [
      "Not enough images in the set, retaining all (9981)\n",
      "999\n",
      "1999\n",
      "2999\n",
      "3999\n",
      "4999\n",
      "5999\n",
      "6999\n",
      "7999\n",
      "8999\n"
     ]
    }
   ],
   "source": [
    "geograph_negatives = '/media/alex/A4A034E0A034BB1E/incidents-thesis/true-negatives/geograph/road-incidents-all/geophotos'\n",
    "\n",
    "images = data_utils.sample_n_images_from_dir(geograph_negatives, seed, 10000)\n",
    "\n",
    "for i, image in enumerate(images):\n",
    "    split = data_utils.determine_split(split_probabilities)\n",
    "    image_to_dataloader_folders(output_dir, 'negative', split, image, output_img_width=500)\n",
    "    if (i+1) % 1000 == 0:\n",
    "        print(i+1)"
   ]
  },
  {
   "cell_type": "markdown",
   "metadata": {},
   "source": [
    "**CityScapes:** 10k"
   ]
  },
  {
   "cell_type": "code",
   "execution_count": 10,
   "metadata": {},
   "outputs": [
    {
     "name": "stdout",
     "output_type": "stream",
     "text": [
      "1000\n",
      "2000\n",
      "3000\n",
      "4000\n",
      "5000\n",
      "6000\n",
      "7000\n",
      "8000\n",
      "9000\n",
      "10000\n"
     ]
    }
   ],
   "source": [
    "cityscape_negatives = '/media/alex/A4A034E0A034BB1E/incidents-thesis/true-negatives/cityscapes'\n",
    "\n",
    "images = data_utils.sample_n_images_from_dir(cityscape_negatives, seed, 10000)\n",
    "\n",
    "for i, image in enumerate(images):\n",
    "    split = data_utils.determine_split(split_probabilities)\n",
    "    image_to_dataloader_folders(output_dir, 'negative', split, image, output_img_width=500)\n",
    "    if (i+1) % 1000 == 0:\n",
    "        print(i+1)"
   ]
  },
  {
   "cell_type": "markdown",
   "metadata": {},
   "source": [
    "**Berkeley Deep Drive** 20k photos"
   ]
  },
  {
   "cell_type": "code",
   "execution_count": 11,
   "metadata": {},
   "outputs": [
    {
     "name": "stdout",
     "output_type": "stream",
     "text": [
      "1000\n",
      "2000\n",
      "3000\n",
      "4000\n",
      "5000\n",
      "6000\n",
      "7000\n",
      "8000\n",
      "9000\n",
      "10000\n",
      "11000\n",
      "12000\n",
      "13000\n",
      "14000\n"
     ]
    }
   ],
   "source": [
    "bdd_train_negatives = '/media/alex/A4A034E0A034BB1E/incidents-thesis/true-negatives/bdd100k/images/100k/train'\n",
    "\n",
    "images = data_utils.sample_n_images_from_dir(bdd_train_negatives, seed, 14000)\n",
    "\n",
    "\n",
    "train = {'train':100, 'val':0, 'test':0}\n",
    "\n",
    "for i, image in enumerate(images):   \n",
    "    split = data_utils.determine_split(train)\n",
    "    image_to_dataloader_folders(output_dir, 'negative', split, image, output_img_width=500, crop_bottom=0.25)\n",
    "    if (i+1) % 1000 == 0:\n",
    "        print(i+1) "
   ]
  },
  {
   "cell_type": "code",
   "execution_count": 12,
   "metadata": {},
   "outputs": [
    {
     "name": "stdout",
     "output_type": "stream",
     "text": [
      "1000\n",
      "2000\n",
      "3000\n",
      "4000\n"
     ]
    }
   ],
   "source": [
    "bdd_val_negatives = '/media/alex/A4A034E0A034BB1E/incidents-thesis/true-negatives/bdd100k/images/100k/val'\n",
    "\n",
    "images = data_utils.sample_n_images_from_dir(bdd_val_negatives, seed, 4000)\n",
    "\n",
    "val = {'train':0, 'val':100, 'test':0}\n",
    "\n",
    "for i, image in enumerate(images):\n",
    "    split = data_utils.determine_split(val)\n",
    "    image_to_dataloader_folders(output_dir, 'negative', split, image, output_img_width=500, crop_bottom=0.25)\n",
    "    if (i+1) % 1000 == 0:\n",
    "        print(i+1)"
   ]
  },
  {
   "cell_type": "code",
   "execution_count": 13,
   "metadata": {},
   "outputs": [
    {
     "name": "stdout",
     "output_type": "stream",
     "text": [
      "1000\n",
      "2000\n"
     ]
    }
   ],
   "source": [
    "bdd_test_negatives = '/media/alex/A4A034E0A034BB1E/incidents-thesis/true-negatives/bdd100k/images/100k/test'\n",
    "\n",
    "images = data_utils.sample_n_images_from_dir(bdd_test_negatives, seed, 2000)\n",
    "\n",
    "test = {'train':0, 'val':0, 'test':100}\n",
    "\n",
    "for i, image in enumerate(images):\n",
    "    split = data_utils.determine_split(test)\n",
    "    image_to_dataloader_folders(output_dir, 'negative', split, image, output_img_width=500, crop_bottom=0.25)\n",
    "    if (i+1) % 1000 == 0:\n",
    "        print(i+1)"
   ]
  },
  {
   "cell_type": "markdown",
   "metadata": {},
   "source": [
    "### Replace table in case of faulty splits"
   ]
  },
  {
   "cell_type": "markdown",
   "metadata": {},
   "source": [
    "https://stackoverflow.com/questions/8442147/how-to-delete-or-add-column-in-sqlite"
   ]
  },
  {
   "cell_type": "markdown",
   "metadata": {},
   "source": [
    "CREATE TABLE incidents_geo (\n",
    " img_id VARCHAR PRIMARY KEY, \n",
    " lat REAL,\n",
    " long REAL,\n",
    " datetime VARCHAR,\n",
    " class STRING\n",
    ");\n",
    "\n",
    "INSERT INTO incidents_geo\n",
    "SELECT img_id, lat, long, datetime, class FROM incidents_geograph;"
   ]
  }
 ],
 "metadata": {
  "kernelspec": {
   "display_name": "Python 3",
   "language": "python",
   "name": "python3"
  },
  "language_info": {
   "codemirror_mode": {
    "name": "ipython",
    "version": 3
   },
   "file_extension": ".py",
   "mimetype": "text/x-python",
   "name": "python",
   "nbconvert_exporter": "python",
   "pygments_lexer": "ipython3",
   "version": "3.6.4"
  }
 },
 "nbformat": 4,
 "nbformat_minor": 2
}
