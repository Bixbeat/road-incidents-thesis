{
 "cells": [
  {
   "cell_type": "markdown",
   "metadata": {},
   "source": [
    "# Preprocessing"
   ]
  },
  {
   "cell_type": "markdown",
   "metadata": {},
   "source": [
    "### Settings"
   ]
  },
  {
   "cell_type": "code",
   "execution_count": 16,
   "metadata": {},
   "outputs": [],
   "source": [
    "import random\n",
    "import os\n",
    "from os import path\n",
    "\n",
    "from PIL import Image\n",
    "\n",
    "from data_management import data_utils\n",
    "from data_management.image_manipulations import image_to_dataloader_folders, crop_bottom_and_sides\n",
    "\n",
    "seed = 1"
   ]
  },
  {
   "cell_type": "code",
   "execution_count": 17,
   "metadata": {},
   "outputs": [],
   "source": [
    "root_dir = '/media/alex/A4A034E0A034BB1E/incidents-thesis/test-two/'\n",
    "output_dir = path.join(root_dir, 'incidents_cleaned')\n",
    "\n",
    "split_probabilities = {'train':70, 'val':20, 'test':10}"
   ]
  },
  {
   "cell_type": "markdown",
   "metadata": {},
   "source": [
    "# Positives"
   ]
  },
  {
   "cell_type": "code",
   "execution_count": 18,
   "metadata": {},
   "outputs": [],
   "source": [
    "split_field_name = 'split'\n",
    "database = '/media/alex/A4A034E0A034BB1E/incidents-thesis/correctimgs'"
   ]
  },
  {
   "cell_type": "markdown",
   "metadata": {},
   "source": [
    "**Geograph positives**"
   ]
  },
  {
   "cell_type": "code",
   "execution_count": 19,
   "metadata": {},
   "outputs": [
    {
     "name": "stdout",
     "output_type": "stream",
     "text": [
      "duplicate column name: split\n"
     ]
    }
   ],
   "source": [
    "image_table_name = 'incidents_geograph'\n",
    "handler = data_utils.ImgDatabaseHandler(database)\n",
    "geograph_root = '/media/alex/A4A034E0A034BB1E/Geograph'\n",
    "\n",
    "try:\n",
    "    handler.add_field(image_table_name, split_field_name) # Only once - note that SQLite does not allow deletes\n",
    "except Exception as e:\n",
    "    print(e)\n",
    "\n",
    "handler.calculate_splits(image_table_name, split_field_name, split_probabilities)\n",
    "records = handler.get_all_records(image_table_name)\n",
    "\n",
    "all_recorded_classes = []\n",
    "[all_recorded_classes.append(str(record[4])) for record in records]\n",
    "unique_classes = set(all_recorded_classes)\n",
    "data_utils.create_dataloader_folders(root_dir, output_dir, unique_classes)\n",
    "\n",
    "for record in records:\n",
    "    filepath = os.path.join(geograph_root, record[0])\n",
    "    # dataloader_root, img_class, img_split, img_path\n",
    "    image_to_dataloader_folders(output_dir, record[4], record[-1], filepath, output_img_width=500)"
   ]
  },
  {
   "cell_type": "markdown",
   "metadata": {},
   "source": [
    "**Scraped data**"
   ]
  },
  {
   "cell_type": "code",
   "execution_count": 20,
   "metadata": {},
   "outputs": [
    {
     "name": "stdout",
     "output_type": "stream",
     "text": [
      "duplicate column name: split\n",
      "file not found: [Errno 2] No such file or directory: '/media/alex/A4A034E0A034BB1E/incidents-thesis/data/flooding/bing/overflowed road/1817AC6AE7A81D67A07AA0F0F738E4334838ACBF.jpg'\n",
      "\n",
      "file not found: [Errno 2] No such file or directory: '/media/alex/A4A034E0A034BB1E/incidents-thesis/data/flooding/bing/overflowed road/E829B16BD3C0CE410C85B9BF8921A8F1215E4E74.jpg'\n",
      "\n",
      "file not found: [Errno 2] No such file or directory: '/media/alex/A4A034E0A034BB1E/incidents-thesis/data/flooding/bing/overflowed route/E2E1AE4A03A0D839B93EF054A2035EA8237C8793.jpg'\n",
      "\n",
      "file not found: [Errno 2] No such file or directory: '/media/alex/A4A034E0A034BB1E/incidents-thesis/data/flooding/google/flooding on highway/d6FDN5HDZ3.jpg'\n",
      "\n",
      "file not found: [Errno 2] No such file or directory: '/media/alex/A4A034E0A034BB1E/incidents-thesis/data/flooding/google/flooding on highway/wp2gj2GSFn.jpg'\n",
      "\n",
      "file not found: [Errno 2] No such file or directory: '/media/alex/A4A034E0A034BB1E/incidents-thesis/data/flooding/google/flooding on road/ddTlLgEFtH.jpg'\n",
      "\n",
      "file not found: [Errno 2] No such file or directory: '/media/alex/A4A034E0A034BB1E/incidents-thesis/data/flooding/google/flooding on road/eIvcZGPxHR.jpg'\n",
      "\n",
      "file not found: [Errno 2] No such file or directory: '/media/alex/A4A034E0A034BB1E/incidents-thesis/data/flooding/google/flooding on road/EKTFtTjsuV.jpg'\n",
      "\n",
      "file not found: [Errno 2] No such file or directory: '/media/alex/A4A034E0A034BB1E/incidents-thesis/data/flooding/google/flooding on road/NViuLJ2LDk.jpg'\n",
      "\n",
      "file not found: [Errno 2] No such file or directory: '/media/alex/A4A034E0A034BB1E/incidents-thesis/data/flooding/google/flooding on road/obsEL2qN7i.jpg'\n",
      "\n",
      "file not found: [Errno 2] No such file or directory: '/media/alex/A4A034E0A034BB1E/incidents-thesis/data/flooding/google/flooding on road/po8KtA5hGb.jpg'\n",
      "\n",
      "file not found: [Errno 2] No such file or directory: '/media/alex/A4A034E0A034BB1E/incidents-thesis/data/flooding/google/flooding on road/gOcT5vTvpa.jpg'\n",
      "\n",
      "file not found: [Errno 2] No such file or directory: '/media/alex/A4A034E0A034BB1E/incidents-thesis/data/flooding/google/flooding on road/USh9oKlyKi.jpg'\n",
      "\n",
      "file not found: [Errno 2] No such file or directory: '/media/alex/A4A034E0A034BB1E/incidents-thesis/data/flooding/google/flooding on road/YUKmwirquX.jpg'\n",
      "\n",
      "file not found: [Errno 2] No such file or directory: '/media/alex/A4A034E0A034BB1E/incidents-thesis/data/flooding/google/flooding on route/5Sy4U8PEF2.jpg'\n",
      "\n",
      "file not found: [Errno 2] No such file or directory: '/media/alex/A4A034E0A034BB1E/incidents-thesis/data/crash/bing/dashcam accident/A07E8FA573F6EE78059FDEAEF344119A134ED239.jpg'\n",
      "\n",
      "file not found: [Errno 2] No such file or directory: '/media/alex/A4A034E0A034BB1E/incidents-thesis/data/crash/bing/dashcam accident/5C25C8512E4D2E5A2D408FE345EF37FFA47BA238.jpg'\n",
      "\n",
      "file not found: [Errno 2] No such file or directory: '/media/alex/A4A034E0A034BB1E/incidents-thesis/data/crash/bing/highway accident/092BD46C51BF892D7A969952CF866A50625C655A.jpg'\n",
      "\n",
      "file not found: [Errno 2] No such file or directory: '/media/alex/A4A034E0A034BB1E/incidents-thesis/data/crash/bing/highway accident/8C8DBF830014ADDA34CA3B268FE3242126536B34.jpg'\n",
      "\n",
      "file not found: [Errno 2] No such file or directory: '/media/alex/A4A034E0A034BB1E/incidents-thesis/data/crash/bing/highway accident/D4E017DF53CA0730380102C21697FBA41930BFAE.jpg'\n",
      "\n",
      "file not found: [Errno 2] No such file or directory: '/media/alex/A4A034E0A034BB1E/incidents-thesis/data/crash/bing/highway accident/166714BC5743B2D8FD69D5D93024FE47FE932ABC.jpg'\n",
      "\n",
      "file not found: [Errno 2] No such file or directory: '/media/alex/A4A034E0A034BB1E/incidents-thesis/data/crash/bing/highway accident/92BE2B9DA8EE966DE7CE0F763DA4399B03ADDFFE.jpg'\n",
      "\n",
      "file not found: [Errno 2] No such file or directory: '/media/alex/A4A034E0A034BB1E/incidents-thesis/data/crash/bing/highway accident/E0702B74A762C75BDDF461A128B96A3AD3E9E2F2.jpg'\n",
      "\n",
      "file not found: [Errno 2] No such file or directory: '/media/alex/A4A034E0A034BB1E/incidents-thesis/data/crash/bing/highway accident/3DB1D2E9ADC2C3706946D2CE307E71A996E9FD87.jpg'\n",
      "\n",
      "file not found: [Errno 2] No such file or directory: '/media/alex/A4A034E0A034BB1E/incidents-thesis/data/crash/bing/highway accident/46DBAFB89861D18E6FC0C9C8433C48675275B5DC.jpg'\n",
      "\n",
      "file not found: [Errno 2] No such file or directory: '/media/alex/A4A034E0A034BB1E/incidents-thesis/data/crash/bing/highway accident/4AC18E088D54526F94F8F7432EC9A815F555040C.jpg'\n",
      "\n",
      "file not found: [Errno 2] No such file or directory: '/media/alex/A4A034E0A034BB1E/incidents-thesis/data/crash/bing/highway accident/C7D9D18D522E892855E10E265B7F0C26C3448A29.jpg'\n",
      "\n",
      "file not found: [Errno 2] No such file or directory: '/media/alex/A4A034E0A034BB1E/incidents-thesis/data/crash/bing/highway accident/CDC072382FC110B0CF07135D365BDB72378D821E.jpg'\n",
      "\n",
      "file not found: [Errno 2] No such file or directory: '/media/alex/A4A034E0A034BB1E/incidents-thesis/data/crash/bing/highway accident/58EF4EEDDF214EDB3A0528FEFD9C3BE5A50DB5D5.jpg'\n",
      "\n",
      "file not found: [Errno 2] No such file or directory: '/media/alex/A4A034E0A034BB1E/incidents-thesis/data/crash/bing/highway accident/178C68448FBC4D0A3C0D227F5D85C360BF82A9A5.jpg'\n",
      "\n",
      "file not found: [Errno 2] No such file or directory: '/media/alex/A4A034E0A034BB1E/incidents-thesis/data/crash/bing/highway collision/0098DCBD6509FF98FDF5A8CBCF6201A72A098A44.jpg'\n",
      "\n",
      "file not found: [Errno 2] No such file or directory: '/media/alex/A4A034E0A034BB1E/incidents-thesis/data/crash/bing/highway collision/16FF6839B7D0787D145D59C674C5AA6AF08DE5D0.jpg'\n",
      "\n",
      "file not found: [Errno 2] No such file or directory: '/media/alex/A4A034E0A034BB1E/incidents-thesis/data/landslide/bing/landslide on road/BA9ABE6DF07770FFABBE93C24E1AFE63B9AC33CF.jpg'\n",
      "\n",
      "file not found: [Errno 2] No such file or directory: '/media/alex/A4A034E0A034BB1E/incidents-thesis/data/landslide/bing/landslide on road/698B1156A4C90C8CD5344F378C83C0F02A42D4B8.jpg'\n",
      "\n",
      "file not found: [Errno 2] No such file or directory: '/media/alex/A4A034E0A034BB1E/incidents-thesis/data/landslide/bing/landslide on road/8F7139E0788F2DB46563678203674D44802CCC86.jpg'\n",
      "\n",
      "file not found: [Errno 2] No such file or directory: '/media/alex/A4A034E0A034BB1E/incidents-thesis/data/landslide/bing/landslide on street/6E20D2EFDE57B91FF7C48E4326EF2BD98C29563C.jpg'\n",
      "\n",
      "file not found: [Errno 2] No such file or directory: '/media/alex/A4A034E0A034BB1E/incidents-thesis/data/landslide/bing/landslide on street/49963FE916A4DBF198E47192A3189C239CE585B2.jpg'\n",
      "\n"
     ]
    }
   ],
   "source": [
    "image_table_name = 'incidents'\n",
    "handler = data_utils.ImgDatabaseHandler(database)\n",
    "scraped_root = '/media/alex/A4A034E0A034BB1E/incidents-thesis/data'\n",
    "\n",
    "try:\n",
    "    handler.add_field(image_table_name, split_field_name) # Only once\n",
    "except Exception as e:\n",
    "    print(e)\n",
    "\n",
    "handler.calculate_splits(image_table_name, split_field_name, split_probabilities)\n",
    "records = handler.get_all_records(image_table_name)\n",
    "\n",
    "all_recorded_classes = []\n",
    "[all_recorded_classes.append(str(record[4])) for record in records]\n",
    "unique_classes = set(all_recorded_classes)\n",
    "data_utils.create_dataloader_folders(root_dir, output_dir, unique_classes)\n",
    "\n",
    "for record in records:\n",
    "    filepath = os.path.join(scraped_root, record[0])\n",
    "    # dataloader_root, img_class, img_split, img_path\n",
    "    image_to_dataloader_folders(output_dir, record[4], record[-1], filepath, output_img_width=500)"
   ]
  },
  {
   "cell_type": "markdown",
   "metadata": {},
   "source": [
    "### Multilingual"
   ]
  },
  {
   "cell_type": "code",
   "execution_count": 25,
   "metadata": {},
   "outputs": [
    {
     "name": "stdout",
     "output_type": "stream",
     "text": [
      "duplicate column name: split\n"
     ]
    },
    {
     "ename": "KeyboardInterrupt",
     "evalue": "",
     "output_type": "error",
     "traceback": [
      "\u001b[0;31m---------------------------------------------------------------------------\u001b[0m",
      "\u001b[0;31mKeyboardInterrupt\u001b[0m                         Traceback (most recent call last)",
      "\u001b[0;32m<ipython-input-25-8eaa58810477>\u001b[0m in \u001b[0;36m<module>\u001b[0;34m()\u001b[0m\n\u001b[1;32m      8\u001b[0m     \u001b[0mprint\u001b[0m\u001b[0;34m(\u001b[0m\u001b[0me\u001b[0m\u001b[0;34m)\u001b[0m\u001b[0;34m\u001b[0m\u001b[0m\n\u001b[1;32m      9\u001b[0m \u001b[0;34m\u001b[0m\u001b[0m\n\u001b[0;32m---> 10\u001b[0;31m \u001b[0mhandler\u001b[0m\u001b[0;34m.\u001b[0m\u001b[0mcalculate_splits\u001b[0m\u001b[0;34m(\u001b[0m\u001b[0mimage_table_name\u001b[0m\u001b[0;34m,\u001b[0m \u001b[0msplit_field_name\u001b[0m\u001b[0;34m,\u001b[0m \u001b[0msplit_probabilities\u001b[0m\u001b[0;34m)\u001b[0m\u001b[0;34m\u001b[0m\u001b[0m\n\u001b[0m\u001b[1;32m     11\u001b[0m \u001b[0mrecords\u001b[0m \u001b[0;34m=\u001b[0m \u001b[0mhandler\u001b[0m\u001b[0;34m.\u001b[0m\u001b[0mget_all_records\u001b[0m\u001b[0;34m(\u001b[0m\u001b[0mimage_table_name\u001b[0m\u001b[0;34m)\u001b[0m\u001b[0;34m\u001b[0m\u001b[0m\n\u001b[1;32m     12\u001b[0m \u001b[0;34m\u001b[0m\u001b[0m\n",
      "\u001b[0;32m~/Documents/Scripts/road-incidents-thesis/data_management/data_utils.py\u001b[0m in \u001b[0;36mcalculate_splits\u001b[0;34m(self, table, field_name, split_probabilities, commit_interval)\u001b[0m\n\u001b[1;32m     58\u001b[0m                 \u001b[0mself\u001b[0m\u001b[0;34m.\u001b[0m\u001b[0mdb\u001b[0m\u001b[0;34m.\u001b[0m\u001b[0mexecute\u001b[0m\u001b[0;34m(\u001b[0m\u001b[0;34mf'UPDATE {table} SET {field_name}=(?) WHERE img_id=(?)'\u001b[0m\u001b[0;34m,\u001b[0m \u001b[0;34m[\u001b[0m\u001b[0msplit\u001b[0m\u001b[0;34m,\u001b[0m \u001b[0mrecord\u001b[0m\u001b[0;34m[\u001b[0m\u001b[0;36m0\u001b[0m\u001b[0;34m]\u001b[0m\u001b[0;34m]\u001b[0m\u001b[0;34m)\u001b[0m\u001b[0;34m\u001b[0m\u001b[0m\n\u001b[1;32m     59\u001b[0m                 \u001b[0;32mif\u001b[0m \u001b[0mi\u001b[0m \u001b[0;34m%\u001b[0m \u001b[0mcommit_interval\u001b[0m \u001b[0;34m==\u001b[0m \u001b[0;36m0\u001b[0m \u001b[0;32mor\u001b[0m \u001b[0mi\u001b[0m \u001b[0;34m==\u001b[0m \u001b[0mlen\u001b[0m\u001b[0;34m(\u001b[0m\u001b[0mrecords\u001b[0m\u001b[0;34m)\u001b[0m\u001b[0;34m:\u001b[0m\u001b[0;34m\u001b[0m\u001b[0m\n\u001b[0;32m---> 60\u001b[0;31m                     \u001b[0mself\u001b[0m\u001b[0;34m.\u001b[0m\u001b[0mdb\u001b[0m\u001b[0;34m.\u001b[0m\u001b[0mcommit\u001b[0m\u001b[0;34m(\u001b[0m\u001b[0;34m)\u001b[0m\u001b[0;34m\u001b[0m\u001b[0m\n\u001b[0m\u001b[1;32m     61\u001b[0m             \u001b[0;32mexcept\u001b[0m \u001b[0msqlite3\u001b[0m\u001b[0;34m.\u001b[0m\u001b[0mIntegrityError\u001b[0m \u001b[0;32mas\u001b[0m \u001b[0me\u001b[0m\u001b[0;34m:\u001b[0m\u001b[0;34m\u001b[0m\u001b[0m\n\u001b[1;32m     62\u001b[0m                 \u001b[0mprint\u001b[0m\u001b[0;34m(\u001b[0m\u001b[0;34mf'Cannot load records: {e}'\u001b[0m\u001b[0;34m)\u001b[0m\u001b[0;34m\u001b[0m\u001b[0m\n",
      "\u001b[0;31mKeyboardInterrupt\u001b[0m: "
     ]
    }
   ],
   "source": [
    "image_table_name = 'incidents_multilingual'\n",
    "handler = data_utils.ImgDatabaseHandler(database)\n",
    "multilang_root = '/media/alex/A4A034E0A034BB1E/incidents-thesis/data/multilingual'\n",
    "\n",
    "try:\n",
    "    handler.add_field(image_table_name, split_field_name) # Only once\n",
    "except Exception as e:\n",
    "    print(e)\n",
    "\n",
    "handler.calculate_splits(image_table_name, split_field_name, split_probabilities)\n",
    "records = handler.get_all_records(image_table_name)\n",
    "\n",
    "all_recorded_classes = []\n",
    "[all_recorded_classes.append(str(record[4])) for record in records]\n",
    "unique_classes = set(all_recorded_classes)\n",
    "data_utils.create_dataloader_folders(root_dir, output_dir, unique_classes)\n",
    "\n",
    "for record in records:\n",
    "    filepath = os.path.join(multilang_root, record[0])\n",
    "    # dataloader_root, img_class, img_split, img_path\n",
    "    image_to_dataloader_folders(output_dir, record[4], record[-1], filepath, output_img_width=500)"
   ]
  },
  {
   "cell_type": "markdown",
   "metadata": {},
   "source": [
    "## Negatives"
   ]
  },
  {
   "cell_type": "markdown",
   "metadata": {},
   "source": [
    "**Geograph negatives:** 9981 photos"
   ]
  },
  {
   "cell_type": "code",
   "execution_count": 23,
   "metadata": {},
   "outputs": [],
   "source": [
    "negatives_class = ['negative']\n",
    "data_utils.create_dataloader_folders(root_dir, output_dir, negatives_class)"
   ]
  },
  {
   "cell_type": "code",
   "execution_count": 24,
   "metadata": {},
   "outputs": [
    {
     "name": "stdout",
     "output_type": "stream",
     "text": [
      "Not enough images in the set, retaining all (9981)\n"
     ]
    },
    {
     "ename": "KeyboardInterrupt",
     "evalue": "",
     "output_type": "error",
     "traceback": [
      "\u001b[0;31m---------------------------------------------------------------------------\u001b[0m",
      "\u001b[0;31mKeyboardInterrupt\u001b[0m                         Traceback (most recent call last)",
      "\u001b[0;32m<ipython-input-24-ec3ab4994ef9>\u001b[0m in \u001b[0;36m<module>\u001b[0;34m()\u001b[0m\n\u001b[1;32m      5\u001b[0m \u001b[0;32mfor\u001b[0m \u001b[0mi\u001b[0m\u001b[0;34m,\u001b[0m \u001b[0mimage\u001b[0m \u001b[0;32min\u001b[0m \u001b[0menumerate\u001b[0m\u001b[0;34m(\u001b[0m\u001b[0mimages\u001b[0m\u001b[0;34m)\u001b[0m\u001b[0;34m:\u001b[0m\u001b[0;34m\u001b[0m\u001b[0m\n\u001b[1;32m      6\u001b[0m     \u001b[0msplit\u001b[0m \u001b[0;34m=\u001b[0m \u001b[0mdata_utils\u001b[0m\u001b[0;34m.\u001b[0m\u001b[0mdetermine_split\u001b[0m\u001b[0;34m(\u001b[0m\u001b[0msplit_probabilities\u001b[0m\u001b[0;34m)\u001b[0m\u001b[0;34m\u001b[0m\u001b[0m\n\u001b[0;32m----> 7\u001b[0;31m     \u001b[0mimage_to_dataloader_folders\u001b[0m\u001b[0;34m(\u001b[0m\u001b[0moutput_dir\u001b[0m\u001b[0;34m,\u001b[0m \u001b[0;34m'negative'\u001b[0m\u001b[0;34m,\u001b[0m \u001b[0msplit\u001b[0m\u001b[0;34m,\u001b[0m \u001b[0mimage\u001b[0m\u001b[0;34m,\u001b[0m \u001b[0moutput_img_width\u001b[0m\u001b[0;34m=\u001b[0m\u001b[0;36m500\u001b[0m\u001b[0;34m)\u001b[0m\u001b[0;34m\u001b[0m\u001b[0m\n\u001b[0m\u001b[1;32m      8\u001b[0m     \u001b[0;32mif\u001b[0m \u001b[0mi\u001b[0m\u001b[0;34m+\u001b[0m\u001b[0;36m1\u001b[0m \u001b[0;34m%\u001b[0m \u001b[0;36m1000\u001b[0m \u001b[0;34m==\u001b[0m \u001b[0;36m0\u001b[0m\u001b[0;34m:\u001b[0m\u001b[0;34m\u001b[0m\u001b[0m\n\u001b[1;32m      9\u001b[0m         \u001b[0mprint\u001b[0m\u001b[0;34m(\u001b[0m\u001b[0mi\u001b[0m\u001b[0;34m)\u001b[0m\u001b[0;34m\u001b[0m\u001b[0m\n",
      "\u001b[0;32m~/Documents/Scripts/road-incidents-thesis/data_management/image_manipulations.py\u001b[0m in \u001b[0;36mimage_to_dataloader_folders\u001b[0;34m(dataloader_root, img_class, img_split, img_path, output_img_width, crop_bottom)\u001b[0m\n\u001b[1;32m    152\u001b[0m             \u001b[0;32mif\u001b[0m \u001b[0mcrop_bottom\u001b[0m \u001b[0;34m>\u001b[0m \u001b[0;36m0\u001b[0m\u001b[0;34m:\u001b[0m\u001b[0;34m\u001b[0m\u001b[0m\n\u001b[1;32m    153\u001b[0m                 \u001b[0mimg_to_resize\u001b[0m \u001b[0;34m=\u001b[0m \u001b[0mcrop_bottom_and_sides\u001b[0m\u001b[0;34m(\u001b[0m\u001b[0mimg_to_resize\u001b[0m\u001b[0;34m,\u001b[0m \u001b[0mcrop_bottom\u001b[0m\u001b[0;34m)\u001b[0m\u001b[0;34m\u001b[0m\u001b[0m\n\u001b[0;32m--> 154\u001b[0;31m             \u001b[0mimg_to_equal_resize\u001b[0m \u001b[0;34m=\u001b[0m \u001b[0mImageOps\u001b[0m\u001b[0;34m.\u001b[0m\u001b[0mfit\u001b[0m\u001b[0;34m(\u001b[0m\u001b[0mimg_to_resize\u001b[0m\u001b[0;34m,\u001b[0m \u001b[0;34m(\u001b[0m\u001b[0moutput_img_width\u001b[0m\u001b[0;34m,\u001b[0m \u001b[0moutput_img_width\u001b[0m\u001b[0;34m)\u001b[0m\u001b[0;34m)\u001b[0m\u001b[0;34m\u001b[0m\u001b[0m\n\u001b[0m\u001b[1;32m    155\u001b[0m             \u001b[0mimg_to_equal_resize\u001b[0m\u001b[0;34m.\u001b[0m\u001b[0msave\u001b[0m\u001b[0;34m(\u001b[0m\u001b[0mtarget_img_path\u001b[0m\u001b[0;34m)\u001b[0m\u001b[0;34m\u001b[0m\u001b[0m\n\u001b[1;32m    156\u001b[0m         \u001b[0;32mexcept\u001b[0m \u001b[0mFileNotFoundError\u001b[0m \u001b[0;32mas\u001b[0m \u001b[0me\u001b[0m\u001b[0;34m:\u001b[0m\u001b[0;34m\u001b[0m\u001b[0m\n",
      "\u001b[0;32m~/anaconda3/envs/thesis/lib/python3.6/site-packages/PIL/ImageOps.py\u001b[0m in \u001b[0;36mfit\u001b[0;34m(image, size, method, bleed, centering)\u001b[0m\n\u001b[1;32m    353\u001b[0m \u001b[0;34m\u001b[0m\u001b[0m\n\u001b[1;32m    354\u001b[0m     out = image.crop(\n\u001b[0;32m--> 355\u001b[0;31m         \u001b[0;34m(\u001b[0m\u001b[0mleftSide\u001b[0m\u001b[0;34m,\u001b[0m \u001b[0mtopSide\u001b[0m\u001b[0;34m,\u001b[0m \u001b[0mleftSide\u001b[0m \u001b[0;34m+\u001b[0m \u001b[0mcropWidth\u001b[0m\u001b[0;34m,\u001b[0m \u001b[0mtopSide\u001b[0m \u001b[0;34m+\u001b[0m \u001b[0mcropHeight\u001b[0m\u001b[0;34m)\u001b[0m\u001b[0;34m\u001b[0m\u001b[0m\n\u001b[0m\u001b[1;32m    356\u001b[0m         )\n\u001b[1;32m    357\u001b[0m \u001b[0;34m\u001b[0m\u001b[0m\n",
      "\u001b[0;32m~/anaconda3/envs/thesis/lib/python3.6/site-packages/PIL/Image.py\u001b[0m in \u001b[0;36mcrop\u001b[0;34m(self, box)\u001b[0m\n\u001b[1;32m   1073\u001b[0m             \u001b[0;32mreturn\u001b[0m \u001b[0mself\u001b[0m\u001b[0;34m.\u001b[0m\u001b[0mcopy\u001b[0m\u001b[0;34m(\u001b[0m\u001b[0;34m)\u001b[0m\u001b[0;34m\u001b[0m\u001b[0m\n\u001b[1;32m   1074\u001b[0m \u001b[0;34m\u001b[0m\u001b[0m\n\u001b[0;32m-> 1075\u001b[0;31m         \u001b[0mself\u001b[0m\u001b[0;34m.\u001b[0m\u001b[0mload\u001b[0m\u001b[0;34m(\u001b[0m\u001b[0;34m)\u001b[0m\u001b[0;34m\u001b[0m\u001b[0m\n\u001b[0m\u001b[1;32m   1076\u001b[0m         \u001b[0;32mreturn\u001b[0m \u001b[0mself\u001b[0m\u001b[0;34m.\u001b[0m\u001b[0m_new\u001b[0m\u001b[0;34m(\u001b[0m\u001b[0mself\u001b[0m\u001b[0;34m.\u001b[0m\u001b[0m_crop\u001b[0m\u001b[0;34m(\u001b[0m\u001b[0mself\u001b[0m\u001b[0;34m.\u001b[0m\u001b[0mim\u001b[0m\u001b[0;34m,\u001b[0m \u001b[0mbox\u001b[0m\u001b[0;34m)\u001b[0m\u001b[0;34m)\u001b[0m\u001b[0;34m\u001b[0m\u001b[0m\n\u001b[1;32m   1077\u001b[0m \u001b[0;34m\u001b[0m\u001b[0m\n",
      "\u001b[0;32m~/anaconda3/envs/thesis/lib/python3.6/site-packages/PIL/ImageFile.py\u001b[0m in \u001b[0;36mload\u001b[0;34m(self)\u001b[0m\n\u001b[1;32m    234\u001b[0m \u001b[0;34m\u001b[0m\u001b[0m\n\u001b[1;32m    235\u001b[0m                         \u001b[0mb\u001b[0m \u001b[0;34m=\u001b[0m \u001b[0mb\u001b[0m \u001b[0;34m+\u001b[0m \u001b[0ms\u001b[0m\u001b[0;34m\u001b[0m\u001b[0m\n\u001b[0;32m--> 236\u001b[0;31m                         \u001b[0mn\u001b[0m\u001b[0;34m,\u001b[0m \u001b[0merr_code\u001b[0m \u001b[0;34m=\u001b[0m \u001b[0mdecoder\u001b[0m\u001b[0;34m.\u001b[0m\u001b[0mdecode\u001b[0m\u001b[0;34m(\u001b[0m\u001b[0mb\u001b[0m\u001b[0;34m)\u001b[0m\u001b[0;34m\u001b[0m\u001b[0m\n\u001b[0m\u001b[1;32m    237\u001b[0m                         \u001b[0;32mif\u001b[0m \u001b[0mn\u001b[0m \u001b[0;34m<\u001b[0m \u001b[0;36m0\u001b[0m\u001b[0;34m:\u001b[0m\u001b[0;34m\u001b[0m\u001b[0m\n\u001b[1;32m    238\u001b[0m                             \u001b[0;32mbreak\u001b[0m\u001b[0;34m\u001b[0m\u001b[0m\n",
      "\u001b[0;31mKeyboardInterrupt\u001b[0m: "
     ]
    }
   ],
   "source": [
    "geograph_negatives = '/media/alex/A4A034E0A034BB1E/incidents-thesis/true-negatives/geograph/road-incidents-all/geophotos'\n",
    "\n",
    "images = data_utils.sample_n_images_from_dir(geograph_negatives, seed, 10000)\n",
    "\n",
    "for i, image in enumerate(images):\n",
    "    split = data_utils.determine_split(split_probabilities)\n",
    "    image_to_dataloader_folders(output_dir, 'negative', split, image, output_img_width=500)\n",
    "    if i+1 % 1000 == 0:\n",
    "        print(i)"
   ]
  },
  {
   "cell_type": "markdown",
   "metadata": {},
   "source": [
    "**CityScapes:** 10k"
   ]
  },
  {
   "cell_type": "code",
   "execution_count": null,
   "metadata": {},
   "outputs": [],
   "source": [
    "cityscape_negatives = '/media/alex/A4A034E0A034BB1E/incidents-thesis/true-negatives/cityscapes'\n",
    "\n",
    "images = data_utils.sample_n_images_from_dir(cityscape_negatives, seed, 10000)\n",
    "\n",
    "for i, image in enumerate(images):\n",
    "    split = data_utils.determine_split(split_probabilities)\n",
    "    image_to_dataloader_folders(output_dir, 'negative', split, image, output_img_width=500)\n",
    "    if i+1 % 1000 == 0:\n",
    "        print(i)"
   ]
  },
  {
   "cell_type": "markdown",
   "metadata": {},
   "source": [
    "**Berkeley Deep Drive** 20k photos"
   ]
  },
  {
   "cell_type": "code",
   "execution_count": 15,
   "metadata": {},
   "outputs": [],
   "source": [
    "bdd_train_negatives = '/media/alex/A4A034E0A034BB1E/incidents-thesis/true-negatives/bdd100k/images/100k/train'\n",
    "\n",
    "images = data_utils.sample_n_images_from_dir(bdd_train_negatives, seed, 14000)\n",
    "\n",
    "\n",
    "train = {'train':100, 'val':0, 'test':0}\n",
    "\n",
    "for i, image in enumerate(images):   \n",
    "    split = data_utils.determine_split(train)\n",
    "    image_to_dataloader_folders(output_dir, 'negative', split, image, output_img_width=500, crop_bottom=0.25)\n",
    "    if i+1 % 1000 == 0:\n",
    "        print(i)    "
   ]
  },
  {
   "cell_type": "code",
   "execution_count": 10,
   "metadata": {},
   "outputs": [
    {
     "name": "stdout",
     "output_type": "stream",
     "text": [
      "0\n",
      "1000\n",
      "2000\n",
      "3000\n"
     ]
    }
   ],
   "source": [
    "bdd_val_negatives = '/media/alex/A4A034E0A034BB1E/incidents-thesis/true-negatives/bdd100k/images/100k/val'\n",
    "\n",
    "images = data_utils.sample_n_images_from_dir(bdd_val_negatives, seed, 4000)\n",
    "\n",
    "val = {'train':0, 'val':100, 'test':0}\n",
    "\n",
    "for i, image in enumerate(images):\n",
    "    split = data_utils.determine_split(val)\n",
    "    image_to_dataloader_folders(output_dir, 'negative', split, image, output_img_width=500, crop_bottom=0.25)\n",
    "    if i+1 % 1000 == 0:\n",
    "        print(i)    "
   ]
  },
  {
   "cell_type": "code",
   "execution_count": 14,
   "metadata": {},
   "outputs": [],
   "source": [
    "bdd_test_negatives = '/media/alex/A4A034E0A034BB1E/incidents-thesis/true-negatives/bdd100k/images/100k/test'\n",
    "\n",
    "images = data_utils.sample_n_images_from_dir(bdd_test_negatives, seed, 2000)\n",
    "\n",
    "test = {'train':0, 'val':0, 'test':100}\n",
    "\n",
    "for i, image in enumerate(images):\n",
    "    split = data_utils.determine_split(test)\n",
    "    image_to_dataloader_folders(output_dir, 'negative', split, image, output_img_width=500, crop_bottom=0.25)\n",
    "    if i+1 % 1000 == 0:\n",
    "        print(i)    "
   ]
  },
  {
   "cell_type": "markdown",
   "metadata": {},
   "source": [
    "### Replace table in case of faulty splits"
   ]
  },
  {
   "cell_type": "markdown",
   "metadata": {},
   "source": [
    "https://stackoverflow.com/questions/8442147/how-to-delete-or-add-column-in-sqlite"
   ]
  },
  {
   "cell_type": "markdown",
   "metadata": {},
   "source": [
    "CREATE TABLE incidents_geo (\n",
    " img_id VARCHAR PRIMARY KEY, \n",
    " lat REAL,\n",
    " long REAL,\n",
    " datetime VARCHAR,\n",
    " class STRING\n",
    ");\n",
    "\n",
    "INSERT INTO incidents_geo\n",
    "SELECT img_id, lat, long, datetime, class FROM incidents_geograph;"
   ]
  }
 ],
 "metadata": {
  "kernelspec": {
   "display_name": "Python 3",
   "language": "python",
   "name": "python3"
  },
  "language_info": {
   "codemirror_mode": {
    "name": "ipython",
    "version": 3
   },
   "file_extension": ".py",
   "mimetype": "text/x-python",
   "name": "python",
   "nbconvert_exporter": "python",
   "pygments_lexer": "ipython3",
   "version": "3.6.4"
  }
 },
 "nbformat": 4,
 "nbformat_minor": 2
}
