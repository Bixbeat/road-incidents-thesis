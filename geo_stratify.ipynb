{
 "cells": [
  {
   "cell_type": "markdown",
   "metadata": {},
   "source": [
    "# Preprocessing"
   ]
  },
  {
   "cell_type": "markdown",
   "metadata": {},
   "source": [
    "### Settings"
   ]
  },
  {
   "cell_type": "code",
   "execution_count": 13,
   "metadata": {},
   "outputs": [],
   "source": [
    "import random\n",
    "import os\n",
    "from os import path\n",
    "\n",
    "from PIL import Image\n",
    "\n",
    "from data_management import data_utils\n",
    "from data_management.image_manipulations import image_to_dataloader_folders, crop_bottom_and_sides\n",
    "\n",
    "seed = 1"
   ]
  },
  {
   "cell_type": "code",
   "execution_count": 14,
   "metadata": {},
   "outputs": [],
   "source": [
    "root_dir = '/media/alex/A4A034E0A034BB1E/incidents-thesis/geograph-coords-data/'\n",
    "output_dir = path.join(root_dir, 'incidents_cleaned')\n",
    "\n",
    "split_probabilities = {'train':70, 'val':20, 'test':10}"
   ]
  },
  {
   "cell_type": "markdown",
   "metadata": {},
   "source": [
    "# Positives"
   ]
  },
  {
   "cell_type": "code",
   "execution_count": 15,
   "metadata": {},
   "outputs": [],
   "source": [
    "split_field_name = 'split'\n",
    "database = '/media/alex/A4A034E0A034BB1E/incidents-thesis/correctimgs'"
   ]
  },
  {
   "cell_type": "markdown",
   "metadata": {},
   "source": [
    "**Geograph positives**"
   ]
  },
  {
   "cell_type": "code",
   "execution_count": 4,
   "metadata": {},
   "outputs": [
    {
     "name": "stdout",
     "output_type": "stream",
     "text": [
      "duplicate column name: split\n"
     ]
    }
   ],
   "source": [
    "# image_table_name = 'incidents_geograph'\n",
    "# handler = data_utils.ImgDatabaseHandler(database)\n",
    "# geograph_root = '/media/alex/A4A034E0A034BB1E/Geograph'\n",
    "\n",
    "# try:\n",
    "#     handler.add_field(image_table_name, split_field_name) # Only once - note that SQLite does not allow deletes\n",
    "# except Exception as e:\n",
    "#     print(e)\n",
    "\n",
    "# handler.calculate_splits(image_table_name, split_field_name, split_probabilities)\n",
    "# records = handler.get_all_records(image_table_name)\n",
    "\n",
    "# all_recorded_classes = []\n",
    "# [all_recorded_classes.append(str(record[4])) for record in records]\n",
    "# unique_classes = set(all_recorded_classes)\n",
    "# data_utils.create_dataloader_folders(root_dir, output_dir, unique_classes)\n",
    "\n",
    "# for record in records:\n",
    "#     filepath = os.path.join(geograph_root, record[0])\n",
    "#     # dataloader_root, img_class, img_split, img_path\n",
    "#     image_to_dataloader_folders(output_dir, record[4], record[-1], filepath, output_img_width=500)\n",
    "\n",
    "# handler.db.close()"
   ]
  },
  {
   "cell_type": "markdown",
   "metadata": {},
   "source": [
    "## Negatives"
   ]
  },
  {
   "cell_type": "markdown",
   "metadata": {},
   "source": [
    "**Geograph negatives:** 9981 photos"
   ]
  },
  {
   "cell_type": "code",
   "execution_count": 16,
   "metadata": {},
   "outputs": [],
   "source": [
    "negatives_class = ['negative']\n",
    "data_utils.create_dataloader_folders(root_dir, output_dir, negatives_class)"
   ]
  },
  {
   "cell_type": "code",
   "execution_count": 26,
   "metadata": {},
   "outputs": [
    {
     "name": "stdout",
     "output_type": "stream",
     "text": [
      "Not enough images in the set, retaining all (9981)\n",
      "train :  999\n",
      "train :  0.894902\n",
      "train :  1999\n",
      "train :  0.905017\n",
      "train :  2999\n",
      "train :  0.912865\n",
      "train :  3999\n",
      "train :  0.921299\n",
      "train :  4999\n",
      "train :  0.931576\n",
      "train :  5999\n",
      "train :  0.942133\n",
      "val :  999\n",
      "val :  0.963000\n"
     ]
    }
   ],
   "source": [
    "seed = 1\n",
    "root_dir = '/media/alex/A4A034E0A034BB1E/incidents-thesis/geograph-coords-data/'\n",
    "output_dir = path.join(root_dir, 'incidents_cleaned')    \n",
    "negatives_class = ['negative']\n",
    "data_utils.create_dataloader_folders(root_dir, output_dir, negatives_class)\n",
    "\n",
    "split_probabilities = {'train':0.7, 'val':0.2, 'test':0.1}\n",
    "\n",
    "geograph_root = '/media/alex/A4A034E0A034BB1E/incidents-thesis/true-negatives/geograph/road-incidents-all/'\n",
    "geograph_negatives = path.join(geograph_root, 'geophotos')\n",
    "geograph_metadata_file = path.join(geograph_root, 'road-incidents-all.csv')\n",
    "\n",
    "images = data_utils.sample_n_images_from_dir(geograph_negatives, seed, 10000)\n",
    "imgs_from_root = [img.split(geograph_root)[-1] for img in images]\n",
    "imgs_with_coords = data_utils.get_geograph_coords(imgs_from_root, geograph_metadata_file)\n",
    "imgs_in_split = data_utils.get_coord_splits(imgs_with_coords, split_probabilities)\n",
    "\n",
    "train_imgs = imgs_in_split['train']\n",
    "val_imgs = imgs_in_split['val']\n",
    "test_imgs = imgs_in_split['test']\n",
    "\n",
    "splits = ['train','val','test']\n",
    "for i, imgs in enumerate([train_imgs, val_imgs, test_imgs]):\n",
    "    for index, image in enumerate(imgs):\n",
    "        target_img = path.join(geograph_root, image[-1])\n",
    "        image_to_dataloader_folders(output_dir, 'negative', splits[i], target_img, output_img_width=500)\n",
    "        if (index+1) % 1000 == 0:\n",
    "            print(splits[i], ': ', index)\n",
    "            print(splits[i], ': ', image[5]) # Latitude increments"
   ]
  },
  {
   "cell_type": "markdown",
   "metadata": {},
   "source": [
    "### Replace table in case of faulty splits"
   ]
  },
  {
   "cell_type": "markdown",
   "metadata": {},
   "source": [
    "https://stackoverflow.com/questions/8442147/how-to-delete-or-add-column-in-sqlite"
   ]
  },
  {
   "cell_type": "markdown",
   "metadata": {},
   "source": [
    "CREATE TABLE incidents_geo (\n",
    " img_id VARCHAR PRIMARY KEY, \n",
    " lat REAL,\n",
    " long REAL,\n",
    " datetime VARCHAR,\n",
    " class STRING\n",
    ");\n",
    "\n",
    "INSERT INTO incidents_geo\n",
    "SELECT img_id, lat, long, datetime, class FROM incidents_geograph;"
   ]
  }
 ],
 "metadata": {
  "kernelspec": {
   "display_name": "Python 3",
   "language": "python",
   "name": "python3"
  },
  "language_info": {
   "codemirror_mode": {
    "name": "ipython",
    "version": 3
   },
   "file_extension": ".py",
   "mimetype": "text/x-python",
   "name": "python",
   "nbconvert_exporter": "python",
   "pygments_lexer": "ipython3",
   "version": "3.6.4"
  }
 },
 "nbformat": 4,
 "nbformat_minor": 2
}
